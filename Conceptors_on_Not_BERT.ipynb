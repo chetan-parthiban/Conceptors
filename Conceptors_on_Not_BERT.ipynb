{
  "nbformat": 4,
  "nbformat_minor": 0,
  "metadata": {
    "colab": {
      "name": "Conceptors on Not-BERT.ipynb",
      "version": "0.3.2",
      "provenance": [],
      "include_colab_link": true
    },
    "kernelspec": {
      "name": "python3",
      "display_name": "Python 3"
    },
    "accelerator": "GPU"
  },
  "cells": [
    {
      "cell_type": "markdown",
      "metadata": {
        "id": "view-in-github",
        "colab_type": "text"
      },
      "source": [
        "<a href=\"https://colab.research.google.com/github/chetan-parthiban/Conceptors/blob/master/Conceptors_on_Not_BERT.ipynb\" target=\"_parent\"><img src=\"https://colab.research.google.com/assets/colab-badge.svg\" alt=\"Open In Colab\"/></a>"
      ]
    },
    {
      "cell_type": "markdown",
      "metadata": {
        "id": "tAS3A7hCuUpg",
        "colab_type": "text"
      },
      "source": [
        "# Testing the effect of Conceptors on Embeddings other than BERT"
      ]
    },
    {
      "cell_type": "markdown",
      "metadata": {
        "id": "YZxL0fFlua4t",
        "colab_type": "text"
      },
      "source": [
        "# Obtain embeddings of interest (GloVe, Fasttext, ELMo)"
      ]
    },
    {
      "cell_type": "code",
      "metadata": {
        "id": "5oV3TDVAuK5g",
        "colab_type": "code",
        "outputId": "ef62f2c5-079d-4459-d155-53963d3bacea",
        "colab": {
          "base_uri": "https://localhost:8080/",
          "height": 2724
        }
      },
      "source": [
        "!pip install flair\n",
        "!pip install allennlp"
      ],
      "execution_count": 0,
      "outputs": [
        {
          "output_type": "stream",
          "text": [
            "Requirement already satisfied: flair in /usr/local/lib/python3.6/dist-packages (0.4.1)\n",
            "Requirement already satisfied: segtok>=1.5.7 in /usr/local/lib/python3.6/dist-packages (from flair) (1.5.7)\n",
            "Requirement already satisfied: bpemb>=0.2.9 in /usr/local/lib/python3.6/dist-packages (from flair) (0.2.12)\n",
            "Requirement already satisfied: regex==2018.1.10 in /usr/local/lib/python3.6/dist-packages (from flair) (2018.1.10)\n",
            "Requirement already satisfied: hyperopt>=0.1.1 in /usr/local/lib/python3.6/dist-packages (from flair) (0.1.2)\n",
            "Requirement already satisfied: mpld3>=0.3 in /usr/local/lib/python3.6/dist-packages (from flair) (0.3)\n",
            "Requirement already satisfied: matplotlib>=2.2.3 in /usr/local/lib/python3.6/dist-packages (from flair) (3.0.3)\n",
            "Requirement already satisfied: torch>=1.0.0 in /usr/local/lib/python3.6/dist-packages (from flair) (1.1.0)\n",
            "Requirement already satisfied: sqlitedict>=1.6.0 in /usr/local/lib/python3.6/dist-packages (from flair) (1.6.0)\n",
            "Requirement already satisfied: deprecated>=1.2.4 in /usr/local/lib/python3.6/dist-packages (from flair) (1.2.5)\n",
            "Requirement already satisfied: tqdm>=4.26.0 in /usr/local/lib/python3.6/dist-packages (from flair) (4.28.1)\n",
            "Requirement already satisfied: sklearn in /usr/local/lib/python3.6/dist-packages (from flair) (0.0)\n",
            "Requirement already satisfied: gensim>=3.4.0 in /usr/local/lib/python3.6/dist-packages (from flair) (3.6.0)\n",
            "Requirement already satisfied: pytorch-pretrained-bert>=0.6.1 in /usr/local/lib/python3.6/dist-packages (from flair) (0.6.2)\n",
            "Requirement already satisfied: numpy in /usr/local/lib/python3.6/dist-packages (from bpemb>=0.2.9->flair) (1.16.3)\n",
            "Requirement already satisfied: sentencepiece in /usr/local/lib/python3.6/dist-packages (from bpemb>=0.2.9->flair) (0.1.82)\n",
            "Requirement already satisfied: requests in /usr/local/lib/python3.6/dist-packages (from bpemb>=0.2.9->flair) (2.21.0)\n",
            "Requirement already satisfied: six in /usr/local/lib/python3.6/dist-packages (from hyperopt>=0.1.1->flair) (1.12.0)\n",
            "Requirement already satisfied: networkx in /usr/local/lib/python3.6/dist-packages (from hyperopt>=0.1.1->flair) (2.3)\n",
            "Requirement already satisfied: future in /usr/local/lib/python3.6/dist-packages (from hyperopt>=0.1.1->flair) (0.16.0)\n",
            "Requirement already satisfied: pymongo in /usr/local/lib/python3.6/dist-packages (from hyperopt>=0.1.1->flair) (3.8.0)\n",
            "Requirement already satisfied: scipy in /usr/local/lib/python3.6/dist-packages (from hyperopt>=0.1.1->flair) (1.2.1)\n",
            "Requirement already satisfied: pyparsing!=2.0.4,!=2.1.2,!=2.1.6,>=2.0.1 in /usr/local/lib/python3.6/dist-packages (from matplotlib>=2.2.3->flair) (2.4.0)\n",
            "Requirement already satisfied: python-dateutil>=2.1 in /usr/local/lib/python3.6/dist-packages (from matplotlib>=2.2.3->flair) (2.5.3)\n",
            "Requirement already satisfied: cycler>=0.10 in /usr/local/lib/python3.6/dist-packages (from matplotlib>=2.2.3->flair) (0.10.0)\n",
            "Requirement already satisfied: kiwisolver>=1.0.1 in /usr/local/lib/python3.6/dist-packages (from matplotlib>=2.2.3->flair) (1.1.0)\n",
            "Requirement already satisfied: wrapt<2,>=1 in /usr/local/lib/python3.6/dist-packages (from deprecated>=1.2.4->flair) (1.10.11)\n",
            "Requirement already satisfied: scikit-learn in /usr/local/lib/python3.6/dist-packages (from sklearn->flair) (0.20.3)\n",
            "Requirement already satisfied: smart-open>=1.2.1 in /usr/local/lib/python3.6/dist-packages (from gensim>=3.4.0->flair) (1.8.3)\n",
            "Requirement already satisfied: boto3 in /usr/local/lib/python3.6/dist-packages (from pytorch-pretrained-bert>=0.6.1->flair) (1.9.148)\n",
            "Requirement already satisfied: idna<2.9,>=2.5 in /usr/local/lib/python3.6/dist-packages (from requests->bpemb>=0.2.9->flair) (2.8)\n",
            "Requirement already satisfied: urllib3<1.25,>=1.21.1 in /usr/local/lib/python3.6/dist-packages (from requests->bpemb>=0.2.9->flair) (1.24.3)\n",
            "Requirement already satisfied: chardet<3.1.0,>=3.0.2 in /usr/local/lib/python3.6/dist-packages (from requests->bpemb>=0.2.9->flair) (3.0.4)\n",
            "Requirement already satisfied: certifi>=2017.4.17 in /usr/local/lib/python3.6/dist-packages (from requests->bpemb>=0.2.9->flair) (2019.3.9)\n",
            "Requirement already satisfied: decorator>=4.3.0 in /usr/local/lib/python3.6/dist-packages (from networkx->hyperopt>=0.1.1->flair) (4.4.0)\n",
            "Requirement already satisfied: setuptools in /usr/local/lib/python3.6/dist-packages (from kiwisolver>=1.0.1->matplotlib>=2.2.3->flair) (41.0.1)\n",
            "Requirement already satisfied: boto>=2.32 in /usr/local/lib/python3.6/dist-packages (from smart-open>=1.2.1->gensim>=3.4.0->flair) (2.49.0)\n",
            "Requirement already satisfied: botocore<1.13.0,>=1.12.148 in /usr/local/lib/python3.6/dist-packages (from boto3->pytorch-pretrained-bert>=0.6.1->flair) (1.12.148)\n",
            "Requirement already satisfied: jmespath<1.0.0,>=0.7.1 in /usr/local/lib/python3.6/dist-packages (from boto3->pytorch-pretrained-bert>=0.6.1->flair) (0.9.4)\n",
            "Requirement already satisfied: s3transfer<0.3.0,>=0.2.0 in /usr/local/lib/python3.6/dist-packages (from boto3->pytorch-pretrained-bert>=0.6.1->flair) (0.2.0)\n",
            "Requirement already satisfied: docutils>=0.10 in /usr/local/lib/python3.6/dist-packages (from botocore<1.13.0,>=1.12.148->boto3->pytorch-pretrained-bert>=0.6.1->flair) (0.14)\n",
            "Requirement already satisfied: allennlp in /usr/local/lib/python3.6/dist-packages (0.8.3)\n",
            "Requirement already satisfied: responses>=0.7 in /usr/local/lib/python3.6/dist-packages (from allennlp) (0.10.6)\n",
            "Requirement already satisfied: nltk in /usr/local/lib/python3.6/dist-packages (from allennlp) (3.2.5)\n",
            "Requirement already satisfied: tqdm>=4.19 in /usr/local/lib/python3.6/dist-packages (from allennlp) (4.28.1)\n",
            "Requirement already satisfied: unidecode in /usr/local/lib/python3.6/dist-packages (from allennlp) (1.0.23)\n",
            "Requirement already satisfied: spacy<2.2,>=2.0 in /usr/local/lib/python3.6/dist-packages (from allennlp) (2.0.18)\n",
            "Requirement already satisfied: awscli>=1.11.91 in /usr/local/lib/python3.6/dist-packages (from allennlp) (1.16.162)\n",
            "Requirement already satisfied: gevent>=1.3.6 in /usr/local/lib/python3.6/dist-packages (from allennlp) (1.4.0)\n",
            "Requirement already satisfied: tensorboardX>=1.2 in /usr/local/lib/python3.6/dist-packages (from allennlp) (1.7)\n",
            "Requirement already satisfied: moto>=1.3.4 in /usr/local/lib/python3.6/dist-packages (from allennlp) (1.3.8)\n",
            "Requirement already satisfied: msgpack<0.6.0,>=0.5.6 in /usr/local/lib/python3.6/dist-packages (from allennlp) (0.5.6)\n",
            "Requirement already satisfied: parsimonious>=0.8.0 in /usr/local/lib/python3.6/dist-packages (from allennlp) (0.8.1)\n",
            "Requirement already satisfied: ftfy in /usr/local/lib/python3.6/dist-packages (from allennlp) (5.5.1)\n",
            "Requirement already satisfied: sqlparse>=0.2.4 in /usr/local/lib/python3.6/dist-packages (from allennlp) (0.3.0)\n",
            "Requirement already satisfied: conllu==0.11 in /usr/local/lib/python3.6/dist-packages (from allennlp) (0.11)\n",
            "Requirement already satisfied: pytz>=2017.3 in /usr/local/lib/python3.6/dist-packages (from allennlp) (2018.9)\n",
            "Requirement already satisfied: pytest in /usr/local/lib/python3.6/dist-packages (from allennlp) (3.6.4)\n",
            "Requirement already satisfied: scikit-learn in /usr/local/lib/python3.6/dist-packages (from allennlp) (0.20.3)\n",
            "Requirement already satisfied: numpydoc>=0.8.0 in /usr/local/lib/python3.6/dist-packages (from allennlp) (0.9.1)\n",
            "Requirement already satisfied: flaky in /usr/local/lib/python3.6/dist-packages (from allennlp) (3.5.3)\n",
            "Requirement already satisfied: jsonnet>=0.10.0; sys_platform != \"win32\" in /usr/local/lib/python3.6/dist-packages (from allennlp) (0.12.1)\n",
            "Requirement already satisfied: scipy in /usr/local/lib/python3.6/dist-packages (from allennlp) (1.2.1)\n",
            "Requirement already satisfied: flask-cors>=3.0.7 in /usr/local/lib/python3.6/dist-packages (from allennlp) (3.0.7)\n",
            "Requirement already satisfied: matplotlib>=2.2.3 in /usr/local/lib/python3.6/dist-packages (from allennlp) (3.0.3)\n",
            "Requirement already satisfied: torch>=0.4.1 in /usr/local/lib/python3.6/dist-packages (from allennlp) (1.1.0)\n",
            "Requirement already satisfied: overrides in /usr/local/lib/python3.6/dist-packages (from allennlp) (1.9)\n",
            "Requirement already satisfied: flask>=1.0.2 in /usr/local/lib/python3.6/dist-packages (from allennlp) (1.0.2)\n",
            "Requirement already satisfied: boto3 in /usr/local/lib/python3.6/dist-packages (from allennlp) (1.9.148)\n",
            "Requirement already satisfied: pytorch-pretrained-bert>=0.6.0 in /usr/local/lib/python3.6/dist-packages (from allennlp) (0.6.2)\n",
            "Requirement already satisfied: requests>=2.18 in /usr/local/lib/python3.6/dist-packages (from allennlp) (2.21.0)\n",
            "Requirement already satisfied: editdistance in /usr/local/lib/python3.6/dist-packages (from allennlp) (0.5.3)\n",
            "Requirement already satisfied: numpy in /usr/local/lib/python3.6/dist-packages (from allennlp) (1.16.3)\n",
            "Requirement already satisfied: word2number>=1.1 in /usr/local/lib/python3.6/dist-packages (from allennlp) (1.1)\n",
            "Requirement already satisfied: h5py in /usr/local/lib/python3.6/dist-packages (from allennlp) (2.8.0)\n",
            "Requirement already satisfied: six in /usr/local/lib/python3.6/dist-packages (from responses>=0.7->allennlp) (1.12.0)\n",
            "Requirement already satisfied: ujson>=1.35 in /usr/local/lib/python3.6/dist-packages (from spacy<2.2,>=2.0->allennlp) (1.35)\n",
            "Requirement already satisfied: regex==2018.01.10 in /usr/local/lib/python3.6/dist-packages (from spacy<2.2,>=2.0->allennlp) (2018.1.10)\n",
            "Requirement already satisfied: preshed<2.1.0,>=2.0.1 in /usr/local/lib/python3.6/dist-packages (from spacy<2.2,>=2.0->allennlp) (2.0.1)\n",
            "Requirement already satisfied: thinc<6.13.0,>=6.12.1 in /usr/local/lib/python3.6/dist-packages (from spacy<2.2,>=2.0->allennlp) (6.12.1)\n",
            "Requirement already satisfied: murmurhash<1.1.0,>=0.28.0 in /usr/local/lib/python3.6/dist-packages (from spacy<2.2,>=2.0->allennlp) (1.0.2)\n",
            "Requirement already satisfied: dill<0.3,>=0.2 in /usr/local/lib/python3.6/dist-packages (from spacy<2.2,>=2.0->allennlp) (0.2.9)\n",
            "Requirement already satisfied: plac<1.0.0,>=0.9.6 in /usr/local/lib/python3.6/dist-packages (from spacy<2.2,>=2.0->allennlp) (0.9.6)\n",
            "Requirement already satisfied: cymem<2.1.0,>=2.0.2 in /usr/local/lib/python3.6/dist-packages (from spacy<2.2,>=2.0->allennlp) (2.0.2)\n",
            "Collecting botocore==1.12.152 (from awscli>=1.11.91->allennlp)\n",
            "\u001b[?25l  Downloading https://files.pythonhosted.org/packages/06/ab/22ef182a80d085a1af91980881884c83ab2b5b98ebd578ed47f4efb23367/botocore-1.12.152-py2.py3-none-any.whl (5.4MB)\n",
            "\u001b[K     |████████████████████████████████| 5.4MB 2.7MB/s \n",
            "\u001b[?25hRequirement already satisfied: s3transfer<0.3.0,>=0.2.0 in /usr/local/lib/python3.6/dist-packages (from awscli>=1.11.91->allennlp) (0.2.0)\n",
            "Requirement already satisfied: colorama<=0.3.9,>=0.2.5 in /usr/local/lib/python3.6/dist-packages (from awscli>=1.11.91->allennlp) (0.3.9)\n",
            "Requirement already satisfied: PyYAML<=3.13,>=3.10 in /usr/local/lib/python3.6/dist-packages (from awscli>=1.11.91->allennlp) (3.13)\n",
            "Requirement already satisfied: docutils>=0.10 in /usr/local/lib/python3.6/dist-packages (from awscli>=1.11.91->allennlp) (0.14)\n",
            "Requirement already satisfied: rsa<=3.5.0,>=3.1.2 in /usr/local/lib/python3.6/dist-packages (from awscli>=1.11.91->allennlp) (3.4.2)\n",
            "Requirement already satisfied: greenlet>=0.4.14; platform_python_implementation == \"CPython\" in /usr/local/lib/python3.6/dist-packages (from gevent>=1.3.6->allennlp) (0.4.15)\n",
            "Requirement already satisfied: protobuf>=3.2.0 in /usr/local/lib/python3.6/dist-packages (from tensorboardX>=1.2->allennlp) (3.7.1)\n",
            "Requirement already satisfied: jsondiff==1.1.2 in /usr/local/lib/python3.6/dist-packages (from moto>=1.3.4->allennlp) (1.1.2)\n",
            "Requirement already satisfied: aws-xray-sdk!=0.96,>=0.93 in /usr/local/lib/python3.6/dist-packages (from moto>=1.3.4->allennlp) (2.4.2)\n",
            "Requirement already satisfied: xmltodict in /usr/local/lib/python3.6/dist-packages (from moto>=1.3.4->allennlp) (0.12.0)\n",
            "Requirement already satisfied: boto>=2.36.0 in /usr/local/lib/python3.6/dist-packages (from moto>=1.3.4->allennlp) (2.49.0)\n",
            "Requirement already satisfied: idna<2.9,>=2.5 in /usr/local/lib/python3.6/dist-packages (from moto>=1.3.4->allennlp) (2.8)\n",
            "Requirement already satisfied: cfn-lint in /usr/local/lib/python3.6/dist-packages (from moto>=1.3.4->allennlp) (0.21.0)\n",
            "Requirement already satisfied: cryptography>=2.3.0 in /usr/local/lib/python3.6/dist-packages (from moto>=1.3.4->allennlp) (2.6.1)\n",
            "Requirement already satisfied: python-dateutil<3.0.0,>=2.1 in /usr/local/lib/python3.6/dist-packages (from moto>=1.3.4->allennlp) (2.5.3)\n",
            "Requirement already satisfied: werkzeug in /usr/local/lib/python3.6/dist-packages (from moto>=1.3.4->allennlp) (0.15.3)\n",
            "Requirement already satisfied: Jinja2>=2.10.1 in /usr/local/lib/python3.6/dist-packages (from moto>=1.3.4->allennlp) (2.10.1)\n",
            "Requirement already satisfied: docker>=2.5.1 in /usr/local/lib/python3.6/dist-packages (from moto>=1.3.4->allennlp) (4.0.1)\n",
            "Requirement already satisfied: mock in /usr/local/lib/python3.6/dist-packages (from moto>=1.3.4->allennlp) (3.0.5)\n",
            "Requirement already satisfied: python-jose<4.0.0 in /usr/local/lib/python3.6/dist-packages (from moto>=1.3.4->allennlp) (3.0.1)\n",
            "Requirement already satisfied: wcwidth in /usr/local/lib/python3.6/dist-packages (from ftfy->allennlp) (0.1.7)\n",
            "Requirement already satisfied: attrs>=17.4.0 in /usr/local/lib/python3.6/dist-packages (from pytest->allennlp) (19.1.0)\n",
            "Requirement already satisfied: atomicwrites>=1.0 in /usr/local/lib/python3.6/dist-packages (from pytest->allennlp) (1.3.0)\n",
            "Requirement already satisfied: more-itertools>=4.0.0 in /usr/local/lib/python3.6/dist-packages (from pytest->allennlp) (7.0.0)\n",
            "Requirement already satisfied: py>=1.5.0 in /usr/local/lib/python3.6/dist-packages (from pytest->allennlp) (1.8.0)\n",
            "Requirement already satisfied: pluggy<0.8,>=0.5 in /usr/local/lib/python3.6/dist-packages (from pytest->allennlp) (0.7.1)\n",
            "Requirement already satisfied: setuptools in /usr/local/lib/python3.6/dist-packages (from pytest->allennlp) (41.0.1)\n",
            "Requirement already satisfied: sphinx>=1.6.5 in /usr/local/lib/python3.6/dist-packages (from numpydoc>=0.8.0->allennlp) (1.8.5)\n",
            "Requirement already satisfied: kiwisolver>=1.0.1 in /usr/local/lib/python3.6/dist-packages (from matplotlib>=2.2.3->allennlp) (1.1.0)\n",
            "Requirement already satisfied: cycler>=0.10 in /usr/local/lib/python3.6/dist-packages (from matplotlib>=2.2.3->allennlp) (0.10.0)\n",
            "Requirement already satisfied: pyparsing!=2.0.4,!=2.1.2,!=2.1.6,>=2.0.1 in /usr/local/lib/python3.6/dist-packages (from matplotlib>=2.2.3->allennlp) (2.4.0)\n",
            "Requirement already satisfied: itsdangerous>=0.24 in /usr/local/lib/python3.6/dist-packages (from flask>=1.0.2->allennlp) (1.1.0)\n",
            "Requirement already satisfied: click>=5.1 in /usr/local/lib/python3.6/dist-packages (from flask>=1.0.2->allennlp) (7.0)\n",
            "Requirement already satisfied: jmespath<1.0.0,>=0.7.1 in /usr/local/lib/python3.6/dist-packages (from boto3->allennlp) (0.9.4)\n",
            "Requirement already satisfied: chardet<3.1.0,>=3.0.2 in /usr/local/lib/python3.6/dist-packages (from requests>=2.18->allennlp) (3.0.4)\n",
            "Requirement already satisfied: urllib3<1.25,>=1.21.1 in /usr/local/lib/python3.6/dist-packages (from requests>=2.18->allennlp) (1.24.3)\n",
            "Requirement already satisfied: certifi>=2017.4.17 in /usr/local/lib/python3.6/dist-packages (from requests>=2.18->allennlp) (2019.3.9)\n",
            "Requirement already satisfied: msgpack-numpy<0.4.4 in /usr/local/lib/python3.6/dist-packages (from thinc<6.13.0,>=6.12.1->spacy<2.2,>=2.0->allennlp) (0.4.3.2)\n",
            "Requirement already satisfied: cytoolz<0.10,>=0.9.0 in /usr/local/lib/python3.6/dist-packages (from thinc<6.13.0,>=6.12.1->spacy<2.2,>=2.0->allennlp) (0.9.0.1)\n",
            "Requirement already satisfied: wrapt<1.11.0,>=1.10.0 in /usr/local/lib/python3.6/dist-packages (from thinc<6.13.0,>=6.12.1->spacy<2.2,>=2.0->allennlp) (1.10.11)\n",
            "Requirement already satisfied: pyasn1>=0.1.3 in /usr/local/lib/python3.6/dist-packages (from rsa<=3.5.0,>=3.1.2->awscli>=1.11.91->allennlp) (0.4.5)\n",
            "Requirement already satisfied: jsonpickle in /usr/local/lib/python3.6/dist-packages (from aws-xray-sdk!=0.96,>=0.93->moto>=1.3.4->allennlp) (1.1)\n",
            "Requirement already satisfied: future in /usr/local/lib/python3.6/dist-packages (from aws-xray-sdk!=0.96,>=0.93->moto>=1.3.4->allennlp) (0.16.0)\n",
            "Requirement already satisfied: aws-sam-translator>=1.10.0 in /usr/local/lib/python3.6/dist-packages (from cfn-lint->moto>=1.3.4->allennlp) (1.11.0)\n",
            "Requirement already satisfied: jsonpatch in /usr/local/lib/python3.6/dist-packages (from cfn-lint->moto>=1.3.4->allennlp) (1.23)\n",
            "Requirement already satisfied: jsonschema~=2.6 in /usr/local/lib/python3.6/dist-packages (from cfn-lint->moto>=1.3.4->allennlp) (2.6.0)\n",
            "Requirement already satisfied: cffi!=1.11.3,>=1.8 in /usr/local/lib/python3.6/dist-packages (from cryptography>=2.3.0->moto>=1.3.4->allennlp) (1.12.3)\n",
            "Requirement already satisfied: asn1crypto>=0.21.0 in /usr/local/lib/python3.6/dist-packages (from cryptography>=2.3.0->moto>=1.3.4->allennlp) (0.24.0)\n",
            "Requirement already satisfied: MarkupSafe>=0.23 in /usr/local/lib/python3.6/dist-packages (from Jinja2>=2.10.1->moto>=1.3.4->allennlp) (1.1.1)\n",
            "Requirement already satisfied: websocket-client>=0.32.0 in /usr/local/lib/python3.6/dist-packages (from docker>=2.5.1->moto>=1.3.4->allennlp) (0.56.0)\n",
            "Requirement already satisfied: ecdsa<1.0 in /usr/local/lib/python3.6/dist-packages (from python-jose<4.0.0->moto>=1.3.4->allennlp) (0.13.2)\n",
            "Requirement already satisfied: babel!=2.0,>=1.3 in /usr/local/lib/python3.6/dist-packages (from sphinx>=1.6.5->numpydoc>=0.8.0->allennlp) (2.6.0)\n",
            "Requirement already satisfied: packaging in /usr/local/lib/python3.6/dist-packages (from sphinx>=1.6.5->numpydoc>=0.8.0->allennlp) (19.0)\n",
            "Requirement already satisfied: alabaster<0.8,>=0.7 in /usr/local/lib/python3.6/dist-packages (from sphinx>=1.6.5->numpydoc>=0.8.0->allennlp) (0.7.12)\n",
            "Requirement already satisfied: sphinxcontrib-websupport in /usr/local/lib/python3.6/dist-packages (from sphinx>=1.6.5->numpydoc>=0.8.0->allennlp) (1.1.0)\n",
            "Requirement already satisfied: snowballstemmer>=1.1 in /usr/local/lib/python3.6/dist-packages (from sphinx>=1.6.5->numpydoc>=0.8.0->allennlp) (1.2.1)\n",
            "Requirement already satisfied: Pygments>=2.0 in /usr/local/lib/python3.6/dist-packages (from sphinx>=1.6.5->numpydoc>=0.8.0->allennlp) (2.1.3)\n",
            "Requirement already satisfied: imagesize in /usr/local/lib/python3.6/dist-packages (from sphinx>=1.6.5->numpydoc>=0.8.0->allennlp) (1.1.0)\n",
            "Requirement already satisfied: toolz>=0.8.0 in /usr/local/lib/python3.6/dist-packages (from cytoolz<0.10,>=0.9.0->thinc<6.13.0,>=6.12.1->spacy<2.2,>=2.0->allennlp) (0.9.0)\n",
            "Requirement already satisfied: jsonpointer>=1.9 in /usr/local/lib/python3.6/dist-packages (from jsonpatch->cfn-lint->moto>=1.3.4->allennlp) (2.0)\n",
            "Requirement already satisfied: pycparser in /usr/local/lib/python3.6/dist-packages (from cffi!=1.11.3,>=1.8->cryptography>=2.3.0->moto>=1.3.4->allennlp) (2.19)\n",
            "Installing collected packages: botocore\n",
            "  Found existing installation: botocore 1.12.148\n",
            "    Uninstalling botocore-1.12.148:\n",
            "      Successfully uninstalled botocore-1.12.148\n",
            "Successfully installed botocore-1.12.152\n"
          ],
          "name": "stdout"
        },
        {
          "output_type": "display_data",
          "data": {
            "application/vnd.colab-display-data+json": {
              "pip_warning": {
                "packages": [
                  "botocore"
                ]
              }
            }
          },
          "metadata": {
            "tags": []
          }
        }
      ]
    },
    {
      "cell_type": "code",
      "metadata": {
        "id": "MI-4zQexuj0Y",
        "colab_type": "code",
        "outputId": "870f80ca-5268-4d88-8fb4-8c433af64ce0",
        "colab": {
          "base_uri": "https://localhost:8080/",
          "height": 51
        }
      },
      "source": [
        "from flair.embeddings import WordEmbeddings\n",
        "from flair.embeddings import ELMoEmbeddings\n",
        "from flair.data import Sentence\n",
        "glove = WordEmbeddings('glove')\n",
        "fast = WordEmbeddings('crawl')\n",
        "ELMo = ELMoEmbeddings('original')"
      ],
      "execution_count": 0,
      "outputs": [
        {
          "output_type": "stream",
          "text": [
            "2019-05-21 15:50:32,110 this function is deprecated, use smart_open.open instead\n",
            "2019-05-21 15:50:34,455 this function is deprecated, use smart_open.open instead\n"
          ],
          "name": "stdout"
        }
      ]
    },
    {
      "cell_type": "markdown",
      "metadata": {
        "id": "tRJgEujevjGM",
        "colab_type": "text"
      },
      "source": [
        "# Obtain the Brown Corpus and Embeddings\n",
        "**Corpus** <br>\n",
        "brown_corpus <br> <br>\n",
        "\n",
        "**Embeddings** <br>\n",
        "brown_glove <br>\n",
        "brown_fast <br>\n",
        "bronw_ELMo <br>"
      ]
    },
    {
      "cell_type": "code",
      "metadata": {
        "id": "U-UwcdVBwCic",
        "colab_type": "code",
        "outputId": "383b678f-6b9f-49d7-f4ca-395d857a94c7",
        "colab": {
          "base_uri": "https://localhost:8080/",
          "height": 51
        }
      },
      "source": [
        "import numpy as np\n",
        "import torch\n",
        "import matplotlib.pyplot as plt\n",
        "t = np.transpose\n",
        "%matplotlib inline\n",
        "from tqdm import tqdm\n",
        "import nltk\n",
        "nltk.download('brown')\n",
        "\n",
        "from nltk.corpus import brown\n",
        "brown_corpus = brown.sents()\n",
        "brown_corpus = brown_corpus[:10000]"
      ],
      "execution_count": 0,
      "outputs": [
        {
          "output_type": "stream",
          "text": [
            "[nltk_data] Downloading package brown to /root/nltk_data...\n",
            "[nltk_data]   Package brown is already up-to-date!\n"
          ],
          "name": "stdout"
        }
      ]
    },
    {
      "cell_type": "code",
      "metadata": {
        "id": "VVZJsK3JxOvi",
        "colab_type": "code",
        "colab": {}
      },
      "source": [
        "# brown_ELMo = []\n",
        "# for s in tqdm(brown_corpus):\n",
        "#     sentence = Sentence(' '.join(s))\n",
        "#     ELMo.embed(sentence)\n",
        "#     sent_emb = torch.stack([token.embedding for token in sentence]).numpy()\n",
        "#     brown_ELMo.append(sent_emb)"
      ],
      "execution_count": 0,
      "outputs": []
    },
    {
      "cell_type": "markdown",
      "metadata": {
        "id": "tS1yGnFaxiRO",
        "colab_type": "text"
      },
      "source": [
        "# Initialize Some Functions and Word Lists\n",
        "**Conceptor Functions** <br>\n",
        "get_conceptor <br>\n",
        "get_negated <br>\n",
        "get_apply_negated <br>\n",
        "post_process_cn_matrix <br> <br>\n",
        "\n",
        "**Other Functions** <br>\n",
        "do_plot <br>\n",
        "pick_embeddings <br> <br>\n",
        "\n",
        "**Word Lists** <br>\n",
        "gender_list_pronouns <br>\n",
        "gender_list_extended <br>\n",
        "gender_list_propernouns <br>\n",
        "gender_list_all <br>"
      ]
    },
    {
      "cell_type": "code",
      "metadata": {
        "id": "VDoMKrLkyVNo",
        "colab_type": "code",
        "colab": {}
      },
      "source": [
        "# Gender word lists\n",
        "!git clone https://github.com/uclanlp/gn_glove\n",
        "!git clone https://github.com/uclanlp/corefBias\n",
        "!wget https://www.cs.cmu.edu/Groups/AI/areas/nlp/corpora/names/female.txt\n",
        "!wget https://www.cs.cmu.edu/Groups/AI/areas/nlp/corpora/names/male.txt\n",
        "    \n",
        "# our code for debiasing -- also includes word lists    \n",
        "!git clone https://github.com/jsedoc/ConceptorDebias"
      ],
      "execution_count": 0,
      "outputs": []
    },
    {
      "cell_type": "code",
      "metadata": {
        "id": "MRVXGEdvxpPn",
        "colab_type": "code",
        "colab": {}
      },
      "source": [
        "import matplotlib as mpl\n",
        "from mpl_toolkits.mplot3d import Axes3D\n",
        "import numpy as np\n",
        "import matplotlib.cm as cm\n",
        "import matplotlib.pyplot as plt\n",
        "import pandas as pd\n",
        "from   sklearn.decomposition import PCA\n",
        "from   sklearn.manifold import TSNE, Isomap, LocallyLinearEmbedding, MDS, SpectralEmbedding\n",
        "from   sklearn.preprocessing import StandardScaler\n",
        "\n",
        "np.set_printoptions(suppress=True)\n",
        "np.set_printoptions(precision=4)\n",
        "plt_style = 'seaborn-talk'\n",
        "\n",
        "# Experimental: HDBScan is a state-of-the-art clustering algorithm\n",
        "hdbscan_available = True\n",
        "try:\n",
        "    import hdbscan\n",
        "except ImportError:\n",
        "    hdbscan_available = False"
      ],
      "execution_count": 0,
      "outputs": []
    },
    {
      "cell_type": "code",
      "metadata": {
        "id": "mk3Pep4Fyaxf",
        "colab_type": "code",
        "colab": {}
      },
      "source": [
        "# Get Winobias word lists\n",
        "winoWordsPath = './' + 'corefBias/WinoBias/wino/extra_gendered_words.txt'\n",
        "male_vino_extra = []\n",
        "female_vino_extra = []\n",
        "with open(winoWordsPath, \"r+\") as f_in:\n",
        "    for line in f_in:\n",
        "        male_vino_extra.append(line.split('\\t')[0])\n",
        "        female_vino_extra.append(line.strip().split('\\t')[1])\n",
        "\n",
        "# Get CMU word lists\n",
        "cmuMaleWordPath = './' + 'male.txt'\n",
        "male_cmu = []\n",
        "with open(cmuMaleWordPath, \"r+\") as f_in:\n",
        "  for line in f_in:\n",
        "    w = line.strip()\n",
        "    if len(w)>0 and w[0] != '#':\n",
        "      male_cmu.append(w)\n",
        "cmuFemaleWordPath = './' + 'female.txt'\n",
        "female_cmu = []\n",
        "with open(cmuFemaleWordPath, \"r+\") as f_in:\n",
        "  for line in f_in:\n",
        "    w = line.strip()\n",
        "    if len(w)>0 and w[0] != '#':\n",
        "      female_cmu.append(w)\n",
        "    \n",
        "# Get gnGlove word lists\n",
        "gnGloveFemaleWordPath = './' + 'gn_glove/wordlist/female_word_file.txt'\n",
        "female_gnGlove = []\n",
        "with open(gnGloveFemaleWordPath, \"r+\") as f_in:\n",
        "    for line in f_in:\n",
        "        female_gnGlove.append(line.strip())\n",
        "gnGloveMaleWordPath = './' + 'gn_glove/wordlist/male_word_file.txt'\n",
        "male_gnGlove = []\n",
        "with open(gnGloveMaleWordPath, \"r+\") as f_in:\n",
        "    for line in f_in:\n",
        "        male_gnGlove.append(line.strip())\n",
        "    \n",
        "# Get WEAT lists and conceptor functionality\n",
        "from ConceptorDebias.Conceptors.conceptor_fxns import *\n",
        "from ConceptorDebias.lists import WEAT_lists\n",
        "WEATLists = WEAT_lists.WEATLists()"
      ],
      "execution_count": 0,
      "outputs": []
    },
    {
      "cell_type": "markdown",
      "metadata": {
        "id": "qUrN7xZXx2jo",
        "colab_type": "text"
      },
      "source": [
        "Perform a nice plot of some data where different labels are colored differently"
      ]
    },
    {
      "cell_type": "code",
      "metadata": {
        "id": "FOnKNAvnxtb4",
        "colab_type": "code",
        "colab": {}
      },
      "source": [
        "def do_plot(X_fit, title=None, labels = ['']):\n",
        "    dimension = X_fit.shape[1]\n",
        "    label_types = sorted(list(set(labels)))\n",
        "    num_labels = len(label_types)\n",
        "    colors = cm.Accent(np.linspace(0,1,num_labels))\n",
        "    with plt.style.context(plt_style):\n",
        "        fig = plt.figure()\n",
        "        if dimension == 2:\n",
        "            ax = fig.add_subplot(111)\n",
        "            \n",
        "            for lab,col in zip(label_types, colors):\n",
        "                if num_labels>1:\n",
        "                    idxs = [i for i,v in enumerate(labels) if v == lab]\n",
        "                    ax.scatter([X_fit[i,0] for i in idxs], \n",
        "                               [X_fit[i,1] for i in idxs], \n",
        "                               c = [col], label = lab)\n",
        "                else:\n",
        "                    ax.scatter(X_fit[:,0],\n",
        "                               X_fit[:,1],\n",
        "                               c = [col])\n",
        "        elif dimension == 3:\n",
        "            ax = fig.add_subplot(111, projection ='3d')\n",
        "            for lab, col in zip(label_types,colors):\n",
        "                ax.scatter(X_fit[labels==lab,0],\n",
        "                           X_fit[labels==lab,1],\n",
        "                           X_fit[labels==lab,2],\n",
        "                           c=[col])\n",
        "        else:\n",
        "            raise Exception('Bad Dimensions')\n",
        "        plt.title(title)\n",
        "        if num_labels >1:\n",
        "            ax.legend()\n",
        "        plt.show()"
      ],
      "execution_count": 0,
      "outputs": []
    },
    {
      "cell_type": "markdown",
      "metadata": {
        "id": "CT-4HXX9x9g3",
        "colab_type": "text"
      },
      "source": [
        "Find all embeddings of words from a world list"
      ]
    },
    {
      "cell_type": "code",
      "metadata": {
        "id": "Qj3lI_z0xzgU",
        "colab_type": "code",
        "colab": {}
      },
      "source": [
        "def pick_embeddings_contextual(corpus,sent_embs,word_list):\n",
        "    X = []\n",
        "    labels = []\n",
        "    sents = []\n",
        "    for i, s in enumerate(corpus):\n",
        "        for j, w in enumerate(s):\n",
        "            if w in word_list:\n",
        "                X.append(sent_embs[i][j])\n",
        "                labels.append(w)\n",
        "                sents.append(s)\n",
        "    return (X, labels, sents)"
      ],
      "execution_count": 0,
      "outputs": []
    },
    {
      "cell_type": "code",
      "metadata": {
        "id": "DPj5duRoF9lT",
        "colab_type": "code",
        "colab": {}
      },
      "source": [
        "def pick_embeddings(embedding, word_list):\n",
        "    labels = []\n",
        "    sentence = Sentence(' '.join(word_list))\n",
        "    embedding.embed(sentence)\n",
        "    X = torch.stack([token.embedding for token in sentence]).numpy()\n",
        "    for w in sentence:\n",
        "        labels.append(w)\n",
        "    return X, labels"
      ],
      "execution_count": 0,
      "outputs": []
    },
    {
      "cell_type": "markdown",
      "metadata": {
        "id": "Kw54bxckyCzQ",
        "colab_type": "text"
      },
      "source": [
        "Some conceptor implementations"
      ]
    },
    {
      "cell_type": "code",
      "metadata": {
        "id": "sClOWSXXyxxJ",
        "colab_type": "code",
        "colab": {}
      },
      "source": [
        "def get_conceptor(x, alpha = 1):\n",
        "    k = x.shape[1]\n",
        "    corr = (x @ x.T)*(1/k)\n",
        "    return corr @ np.linalg.inv(corr + (alpha ** (-2))*np.eye(x.shape[0]))\n",
        "\n",
        "def get_negated(x,alpha = 1):\n",
        "    conceptor = get_conceptor(x,alpha)\n",
        "    return np.identity(conceptor.shape[0]) - conceptor\n",
        "\n",
        "def get_apply_negated(x,alpha = 1):\n",
        "    neg = get_negated(x, alpha = alpha)\n",
        "    newX = (neg @ x).T\n",
        "    return neg, newX\n",
        "\n",
        "def get_corr(x):\n",
        "    return (x @ x.T)*(1/x.shape[1])"
      ],
      "execution_count": 0,
      "outputs": []
    },
    {
      "cell_type": "code",
      "metadata": {
        "id": "Kk2FhsiI0XmC",
        "colab_type": "code",
        "colab": {}
      },
      "source": [
        "gender_list_pronouns = WEATLists.W_7_Male_terms + WEATLists.W_7_Female_terms + WEATLists.W_8_Male_terms + WEATLists.W_8_Female_terms\n",
        "gender_list_pronouns = list(set(gender_list_pronouns))\n",
        "\n",
        "pronouns_male = WEATLists.W_7_Male_terms + WEATLists.W_8_Male_terms\n",
        "pronouns_male = list(set(pronouns_male))\n",
        "pronouns_female = WEATLists.W_8_Female_terms + WEATLists.W_8_Female_terms\n",
        "pronouns_female = list(set(pronouns_female))\n",
        "\n",
        "\n",
        "gender_list_extended = male_vino_extra + female_vino_extra + male_gnGlove + female_gnGlove\n",
        "gender_list_extended = list(set(gender_list_extended))\n",
        "\n",
        "extended_male = male_vino_extra + male_gnGlove\n",
        "extended_male = list(set(extended_male))\n",
        "extended_female = female_vino_extra + female_gnGlove\n",
        "extended_female = list(set(extended_female))\n",
        "\n",
        "gender_list_propernouns = male_cmu + female_cmu\n",
        "gender_list_propernouns = list(set(gender_list_propernouns))\n",
        "\n",
        "propernouns_male = list(set(male_cmu))\n",
        "propernouns_female = list(set(female_cmu))\n",
        "\n",
        "gender_list_all = gender_list_pronouns + gender_list_extended + gender_list_propernouns\n",
        "gender_list_all = list(set(gender_list_all))\n",
        "\n",
        "all_male = list(set(pronouns_male + extended_male + propernouns_male))\n",
        "all_female = list(set(pronouns_female + extended_female + propernouns_female))"
      ],
      "execution_count": 0,
      "outputs": []
    },
    {
      "cell_type": "markdown",
      "metadata": {
        "id": "JYlD1kSv0PKM",
        "colab_type": "text"
      },
      "source": [
        "# Perform Some Analysis "
      ]
    },
    {
      "cell_type": "code",
      "metadata": {
        "id": "OU3hGnC414j_",
        "colab_type": "code",
        "outputId": "6a731eb1-5fce-4e0d-c52f-3f2dbcf23e76",
        "colab": {
          "base_uri": "https://localhost:8080/",
          "height": 1062
        }
      },
      "source": [
        "print('ANALYSING GLOVE EMBEDDINGS \\n')\n",
        "print('Word List')\n",
        "gender_list = gender_list_pronouns\n",
        "print(gender_list)\n",
        "print('\\n')\n",
        "\n",
        "data, _ = pick_embeddings(fast,gender_list)\n",
        "labels = gender_list\n",
        "\n",
        "male, male_label = pick_embeddings(glove,pronouns_male)\n",
        "male_label = ['male']*len(male_label)\n",
        "female, female_label = pick_embeddings(glove,pronouns_female)\n",
        "female_label = ['female']*len(female_label)\n",
        "data = np.hstack((male.T,female.T)).T\n",
        "labels =  male_label+female_label\n",
        "\n",
        "\n",
        "pca = PCA(n_components = 2)\n",
        "pca.fit(data)\n",
        "transformed = pca.transform(data)\n",
        "corr = get_corr(data.T)\n",
        "corr = corr * 1/corr[0][0]\n",
        "print(np.linalg.norm(np.eye(corr.shape[0]) - corr))\n",
        "do_plot(transformed, 'PCA', labels=labels)\n",
        "print(np.mean(abs(np.mean(data,0))))\n",
        "\n",
        "neg, newData = get_apply_negated(data.T)\n",
        "transformed = pca.transform(newData)\n",
        "corr = get_corr(newData.T)\n",
        "corr = corr * 1/corr[0][0]\n",
        "print(np.linalg.norm(np.eye(corr.shape[0]) - corr))\n",
        "do_plot(transformed, 'PCA', labels=labels)\n",
        "\n",
        "\n",
        "# pca_full = PCA()\n",
        "# pca_full.fit(AB)\n",
        "# transformed = pca_full.transform(AB)\n",
        "# tsne = TSNE()\n",
        "# transformed = tsne.fit_transform(transform)\n",
        "# do_plot(transformed, 't-SNE', labels=gender_list)"
      ],
      "execution_count": 0,
      "outputs": [
        {
          "output_type": "stream",
          "text": [
            "ANALYSING GLOVE EMBEDDINGS \n",
            "\n",
            "Word List\n",
            "['hers', 'male', 'grandmother', 'father', 'him', 'woman', 'boy', 'man', 'he', 'uncle', 'girl', 'aunt', 'mother', 'brother', 'daughter', 'his', 'son', 'her', 'sister', 'female', 'she', 'grandfather']\n",
            "\n",
            "\n",
            "97.6730083345387\n"
          ],
          "name": "stdout"
        },
        {
          "output_type": "display_data",
          "data": {
            "image/png": "[encoded data removed]",
            "text/plain": [
              "<Figure size 748.8x514.8 with 1 Axes>"
            ]
          },
          "metadata": {
            "tags": []
          }
        },
        {
          "output_type": "stream",
          "text": [
            "0.34703678\n",
            "42.15267449897664\n"
          ],
          "name": "stdout"
        },
        {
          "output_type": "display_data",
          "data": {
            "image/png": "[encoded data removed]",
            "text/plain": [
              "<Figure size 748.8x514.8 with 1 Axes>"
            ]
          },
          "metadata": {
            "tags": []
          }
        }
      ]
    }
  ]
}